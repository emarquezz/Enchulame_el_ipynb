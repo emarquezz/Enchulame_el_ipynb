{
 "cells": [
  {
   "cell_type": "code",
   "execution_count": 1,
   "id": "6469c983",
   "metadata": {},
   "outputs": [],
   "source": [
    "import seaborn as sns\n",
    "from my_dress_up_jupyter import cutiepy_nb"
   ]
  },
  {
   "cell_type": "code",
   "execution_count": 2,
   "id": "297ea44d",
   "metadata": {},
   "outputs": [
    {
     "data": {
      "text/html": [
       "<svg  width=\"220\" height=\"55\"><rect x=\"0\" y=\"0\" width=\"55\" height=\"55\" style=\"fill:#7202f3;stroke-width:2;stroke:rgb(255,255,255)\"/><rect x=\"55\" y=\"0\" width=\"55\" height=\"55\" style=\"fill:#a11096;stroke-width:2;stroke:rgb(255,255,255)\"/><rect x=\"110\" y=\"0\" width=\"55\" height=\"55\" style=\"fill:#c63700;stroke-width:2;stroke:rgb(255,255,255)\"/><rect x=\"165\" y=\"0\" width=\"55\" height=\"55\" style=\"fill:#e48300;stroke-width:2;stroke:rgb(255,255,255)\"/></svg>"
      ],
      "text/plain": [
       "['#7202f3', '#a11096', '#c63700', '#e48300']"
      ]
     },
     "execution_count": 2,
     "metadata": {},
     "output_type": "execute_result"
    }
   ],
   "source": [
    "sns_palette = 'gnuplot'\n",
    "colors=sns.color_palette(sns_palette, 4).as_hex()\n",
    "colors"
   ]
  },
  {
   "cell_type": "code",
   "execution_count": 7,
   "id": "3fc18635",
   "metadata": {},
   "outputs": [
    {
     "name": "stdout",
     "output_type": "stream",
     "text": [
      "Saved as  /Users/elisamarquez/engineering_db_link/Engineering_db/src/Output_analysis/Plots daniel/Untitled_chulo.ipynb\n"
     ]
    }
   ],
   "source": [
    "# Jupyter notebook to make pretty\n",
    "file = '/Users/elisamarquez/engineering_db_link/Engineering_db/src/Output_analysis/Plots daniel/Untitled.ipynb'\n",
    "cutiepy_nb(file, colors=colors, save=True)"
   ]
  }
 ],
 "metadata": {
  "kernelspec": {
   "display_name": "Python 3 (ipykernel)",
   "language": "python",
   "name": "python3"
  },
  "language_info": {
   "codemirror_mode": {
    "name": "ipython",
    "version": 3
   },
   "file_extension": ".py",
   "mimetype": "text/x-python",
   "name": "python",
   "nbconvert_exporter": "python",
   "pygments_lexer": "ipython3",
   "version": "3.9.7"
  }
 },
 "nbformat": 4,
 "nbformat_minor": 5
}
